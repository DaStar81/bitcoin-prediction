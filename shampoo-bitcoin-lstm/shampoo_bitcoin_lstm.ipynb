{
  "nbformat": 4,
  "nbformat_minor": 0,
  "metadata": {
    "colab": {
      "name": "shampoo-bitcoin-lstm.ipynb",
      "version": "0.3.2",
      "views": {},
      "default_view": {},
      "provenance": []
    },
    "kernelspec": {
      "name": "python3",
      "display_name": "Python 3"
    },
    "accelerator": "GPU"
  },
  "cells": [
    {
      "metadata": {
        "id": "A26MWifb0ezF",
        "colab_type": "text"
      },
      "cell_type": "markdown",
      "source": [
        "# LSTM Bitcoin Price Prediction\n",
        "\n",
        "Simple LSTM with Keras to predict tomorrow's Bitcoin price using price history.\n",
        "\n",
        "Author: Kristopher Buote"
      ]
    },
    {
      "metadata": {
        "id": "2uzO3RWzGSAf",
        "colab_type": "code",
        "colab": {
          "autoexec": {
            "startup": false,
            "wait_interval": 0
          }
        }
      },
      "cell_type": "code",
      "source": [
        "'''\n",
        "Upload Data file if using Google Colab \n",
        "\n",
        "Data file found at: https://github.com/krisbuote/AI-crypto-trader/blob/master/BitcoinDayPrice_April2013-June2018.npy\n",
        "'''\n",
        "#Upload BitcoinDayPrice_April2013-June2018.npy to google Colab\n",
        "from google.colab import files\n",
        "\n",
        "uploaded = files.upload()\n",
        "\n",
        "for fn in uploaded.keys():\n",
        "  print('User uploaded file \"{name}\" with length {length} bytes'.format(name=fn, length=len(uploaded[fn])))"
      ],
      "execution_count": 0,
      "outputs": []
    },
    {
      "metadata": {
        "id": "kHuU_OSjH1H7",
        "colab_type": "text"
      },
      "cell_type": "markdown",
      "source": [
        "# LSTM Network and Data Preprocessing\n"
      ]
    },
    {
      "metadata": {
        "id": "nj3FrKUAHaGg",
        "colab_type": "text"
      },
      "cell_type": "markdown",
      "source": [
        "LSTM for shampoo sales prediction tutorial: \n",
        "(https://)https://machinelearningmastery.com/time-series-forecasting-long-short-term-memory-network-python/\n"
      ]
    },
    {
      "metadata": {
        "id": "l4lZGw3Imhdk",
        "colab_type": "code",
        "colab": {
          "autoexec": {
            "startup": false,
            "wait_interval": 0
          }
        }
      },
      "cell_type": "code",
      "source": [
        "from pandas import DataFrame\n",
        "from pandas import Series\n",
        "from pandas import concat\n",
        "from pandas import read_csv\n",
        "from pandas import datetime\n",
        "from sklearn.metrics import mean_squared_error\n",
        "from sklearn.preprocessing import MinMaxScaler\n",
        "from keras.models import Sequential\n",
        "from keras.layers import Dense\n",
        "from keras.layers import LSTM\n",
        "from math import sqrt\n",
        "from matplotlib import pyplot\n",
        "import numpy\n",
        "\n",
        "# date-time parsing function for loading the dataset\n",
        "def parser(x):\n",
        "  return datetime.strptime('190'+x, '%Y-%m')\n",
        "\n",
        "# frame a sequence as a supervised learning problem\n",
        "def timeseries_to_supervised(data, lag=10):\n",
        "  df = DataFrame(data)\n",
        "  columns = [df.shift(i) for i in range(1, lag+1)]\n",
        "  columns.append(df)\n",
        "  df = concat(columns, axis=1)\n",
        "  df.fillna(0, inplace=True)\n",
        "  return df\n",
        "\n",
        "# create a differenced series\n",
        "def difference(dataset, interval=1):\n",
        "  diff = list()\n",
        "  for i in range(interval, len(dataset)):\n",
        "    value = dataset[i] - dataset[i - interval]\n",
        "    diff.append(value)\n",
        "  return Series(diff)\n",
        "\n",
        "# invert differenced value\n",
        "def inverse_difference(history, yhat, interval=1):\n",
        "  return yhat + history[-interval]\n",
        "\n",
        "# scale train and test data to [-1, 1]\n",
        "def scale(train, test):\n",
        "  # fit scaler\n",
        "  scaler = MinMaxScaler(feature_range=(-1, 1))\n",
        "  scaler = scaler.fit(train)\n",
        "  # transform train\n",
        "  train = train.reshape(train.shape[0], train.shape[1])\n",
        "  train_scaled = scaler.transform(train)\n",
        "  # transform test\n",
        "  test = test.reshape(test.shape[0], test.shape[1])\n",
        "  test_scaled = scaler.transform(test)\n",
        "  return scaler, train_scaled, test_scaled\n",
        "\n",
        "# inverse scaling for a forecasted value\n",
        "def invert_scale(scaler, X, value):\n",
        "  new_row = [x for x in X] + [value]\n",
        "  array = numpy.array(new_row)\n",
        "  array = array.reshape(1, len(array))\n",
        "  inverted = scaler.inverse_transform(array)\n",
        "  return inverted[0, -1]\n",
        "\n",
        "# fit an LSTM network to training data\n",
        "def fit_lstm(train, batch_size, nb_epoch, neurons):\n",
        "  X, y = train[:, 0:-1], train[:, -1]\n",
        "  X = X.reshape(X.shape[0], 1, X.shape[1])\n",
        "  model = Sequential()\n",
        "  model.add(LSTM(neurons, batch_input_shape=(batch_size, X.shape[1], X.shape[2]), stateful=True))\n",
        "  model.add(Dense(1))\n",
        "  model.compile(loss='mean_squared_error', optimizer='adam')\n",
        "  for i in range(nb_epoch):\n",
        "    model.fit(X, y, epochs=1, batch_size=batch_size, verbose=0, shuffle=False)\n",
        "    model.reset_states()\n",
        "    print('Epoch ' + str(i) + ' complete')\n",
        "  return model\n",
        "\n",
        "# make a one-step forecast\n",
        "def forecast_lstm(model, batch_size, X):\n",
        "  X = X.reshape(1, 1, len(X))\n",
        "  yhat = model.predict(X, batch_size=batch_size)\n",
        "  return yhat[0,0]\n",
        "\n",
        "# load dataset\n",
        "series = numpy.load('BitcoinDayPrice_April2013-June2018.npy')\n",
        "raw_values = series[:,1]\n",
        "     \n",
        "# transform data to be stationary\n",
        "\n",
        "diff_values = difference(raw_values, 1)\n",
        "\n",
        "# transform data to be supervised learning\n",
        "supervised = timeseries_to_supervised(diff_values, 1)\n",
        "supervised_values = supervised.values\n",
        "\n",
        "# split data into train and test-sets\n",
        "train_length = int((0.99*supervised_values.shape[0])) #Train on 99% of data\n",
        "train, test = supervised_values[0:train_length], supervised_values[train_length:]\n",
        "\n",
        "# transform the scale of the data\n",
        "scaler, train_scaled, test_scaled = scale(train, test)\n",
        "\n",
        "  "
      ],
      "execution_count": 0,
      "outputs": []
    },
    {
      "metadata": {
        "id": "BdyoqCLXCCfR",
        "colab_type": "text"
      },
      "cell_type": "markdown",
      "source": [
        "#Train Model"
      ]
    },
    {
      "metadata": {
        "id": "BWIYDkZrBjbc",
        "colab_type": "code",
        "colab": {
          "autoexec": {
            "startup": false,
            "wait_interval": 0
          }
        }
      },
      "cell_type": "code",
      "source": [
        "# fit the model\n",
        "lstm_model = fit_lstm(train_scaled, 1, 500, 1000) #input: scaled training data, batch)size, # epochs, # neurons in hidden layer\n",
        "# forecast the entire training dataset to build up state for forecasting\n",
        "train_reshaped = train_scaled[:, 0].reshape(len(train_scaled), 1, 1)\n",
        "lstm_model.predict(train_reshaped, batch_size=1)\n",
        "\n",
        "print(\"Training complete.\")\n"
      ],
      "execution_count": 0,
      "outputs": []
    },
    {
      "metadata": {
        "id": "KN2Qe58KCMHj",
        "colab_type": "text"
      },
      "cell_type": "markdown",
      "source": [
        "#Predict and Report"
      ]
    },
    {
      "metadata": {
        "id": "A5E17jj1yGKz",
        "colab_type": "code",
        "colab": {
          "autoexec": {
            "startup": false,
            "wait_interval": 0
          }
        }
      },
      "cell_type": "code",
      "source": [
        "\n",
        "# walk-forward validation on the test data\n",
        "predictions = list()\n",
        "for i in range(len(test_scaled)):\n",
        "  # make one-step forecast\n",
        "  X, y = test_scaled[i, 0:-1], test_scaled[i, -1]\n",
        "  yhat = forecast_lstm(lstm_model, 1, X)\n",
        "  # invert scaling\n",
        "  yhat = invert_scale(scaler, X, yhat)\n",
        "  # invert differencing\n",
        "  yhat = inverse_difference(raw_values, yhat, len(test_scaled)+1-i)\n",
        "  # store forecast\n",
        "  predictions.append(yhat)\n",
        "  expected = raw_values[len(train) + i + 1]\n",
        "  print('Predicted = $%d, Expected = $%d' % (yhat, expected))\n",
        "  \n",
        "# report performance\n",
        "rmse = sqrt(mean_squared_error(raw_values[-len(test_scaled):], predictions))\n",
        "print('Test RMSE: %.3f' % rmse)\n",
        "# line plot of observed vs predicted\n",
        "pyplot.plot(raw_values[-len(test_scaled):], label = 'Expected')\n",
        "pyplot.plot(predictions, label = 'Predicted')\n",
        "pyplot.legend()\n",
        "pyplot.show()"
      ],
      "execution_count": 0,
      "outputs": []
    }
  ]
}